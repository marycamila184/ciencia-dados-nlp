{
 "cells": [
  {
   "cell_type": "code",
   "execution_count": 3,
   "metadata": {},
   "outputs": [],
   "source": [
    "import pandas as pd\n",
    "import numpy as np"
   ]
  },
  {
   "cell_type": "code",
   "execution_count": 4,
   "metadata": {},
   "outputs": [
    {
     "data": {
      "text/html": [
       "<div>\n",
       "<style scoped>\n",
       "    .dataframe tbody tr th:only-of-type {\n",
       "        vertical-align: middle;\n",
       "    }\n",
       "\n",
       "    .dataframe tbody tr th {\n",
       "        vertical-align: top;\n",
       "    }\n",
       "\n",
       "    .dataframe thead th {\n",
       "        text-align: right;\n",
       "    }\n",
       "</style>\n",
       "<table border=\"1\" class=\"dataframe\">\n",
       "  <thead>\n",
       "    <tr style=\"text-align: right;\">\n",
       "      <th></th>\n",
       "      <th>city</th>\n",
       "      <th>city_ibge_code</th>\n",
       "      <th>date</th>\n",
       "      <th>epidemiological_week</th>\n",
       "      <th>estimated_population</th>\n",
       "      <th>estimated_population_2019</th>\n",
       "      <th>is_last</th>\n",
       "      <th>is_repeated</th>\n",
       "      <th>last_available_confirmed</th>\n",
       "      <th>last_available_confirmed_per_100k_inhabitants</th>\n",
       "      <th>last_available_date</th>\n",
       "      <th>last_available_death_rate</th>\n",
       "      <th>last_available_deaths</th>\n",
       "      <th>order_for_place</th>\n",
       "      <th>place_type</th>\n",
       "      <th>state</th>\n",
       "      <th>new_confirmed</th>\n",
       "      <th>new_deaths</th>\n",
       "    </tr>\n",
       "  </thead>\n",
       "  <tbody>\n",
       "    <tr>\n",
       "      <th>0</th>\n",
       "      <td>Rio Branco</td>\n",
       "      <td>1200401.0</td>\n",
       "      <td>2020-03-17</td>\n",
       "      <td>202012</td>\n",
       "      <td>413418.0</td>\n",
       "      <td>407319.0</td>\n",
       "      <td>False</td>\n",
       "      <td>False</td>\n",
       "      <td>3</td>\n",
       "      <td>0.72566</td>\n",
       "      <td>2020-03-17</td>\n",
       "      <td>0.0</td>\n",
       "      <td>0</td>\n",
       "      <td>1</td>\n",
       "      <td>city</td>\n",
       "      <td>AC</td>\n",
       "      <td>3</td>\n",
       "      <td>0</td>\n",
       "    </tr>\n",
       "    <tr>\n",
       "      <th>1</th>\n",
       "      <td>NaN</td>\n",
       "      <td>12.0</td>\n",
       "      <td>2020-03-17</td>\n",
       "      <td>202012</td>\n",
       "      <td>894470.0</td>\n",
       "      <td>881935.0</td>\n",
       "      <td>False</td>\n",
       "      <td>False</td>\n",
       "      <td>3</td>\n",
       "      <td>0.33539</td>\n",
       "      <td>2020-03-17</td>\n",
       "      <td>0.0</td>\n",
       "      <td>0</td>\n",
       "      <td>1</td>\n",
       "      <td>state</td>\n",
       "      <td>AC</td>\n",
       "      <td>3</td>\n",
       "      <td>0</td>\n",
       "    </tr>\n",
       "    <tr>\n",
       "      <th>2</th>\n",
       "      <td>Rio Branco</td>\n",
       "      <td>1200401.0</td>\n",
       "      <td>2020-03-18</td>\n",
       "      <td>202012</td>\n",
       "      <td>413418.0</td>\n",
       "      <td>407319.0</td>\n",
       "      <td>False</td>\n",
       "      <td>False</td>\n",
       "      <td>3</td>\n",
       "      <td>0.72566</td>\n",
       "      <td>2020-03-18</td>\n",
       "      <td>0.0</td>\n",
       "      <td>0</td>\n",
       "      <td>2</td>\n",
       "      <td>city</td>\n",
       "      <td>AC</td>\n",
       "      <td>0</td>\n",
       "      <td>0</td>\n",
       "    </tr>\n",
       "    <tr>\n",
       "      <th>3</th>\n",
       "      <td>NaN</td>\n",
       "      <td>12.0</td>\n",
       "      <td>2020-03-18</td>\n",
       "      <td>202012</td>\n",
       "      <td>894470.0</td>\n",
       "      <td>881935.0</td>\n",
       "      <td>False</td>\n",
       "      <td>False</td>\n",
       "      <td>3</td>\n",
       "      <td>0.33539</td>\n",
       "      <td>2020-03-18</td>\n",
       "      <td>0.0</td>\n",
       "      <td>0</td>\n",
       "      <td>2</td>\n",
       "      <td>state</td>\n",
       "      <td>AC</td>\n",
       "      <td>0</td>\n",
       "      <td>0</td>\n",
       "    </tr>\n",
       "    <tr>\n",
       "      <th>4</th>\n",
       "      <td>Rio Branco</td>\n",
       "      <td>1200401.0</td>\n",
       "      <td>2020-03-19</td>\n",
       "      <td>202012</td>\n",
       "      <td>413418.0</td>\n",
       "      <td>407319.0</td>\n",
       "      <td>False</td>\n",
       "      <td>False</td>\n",
       "      <td>4</td>\n",
       "      <td>0.96754</td>\n",
       "      <td>2020-03-19</td>\n",
       "      <td>0.0</td>\n",
       "      <td>0</td>\n",
       "      <td>3</td>\n",
       "      <td>city</td>\n",
       "      <td>AC</td>\n",
       "      <td>1</td>\n",
       "      <td>0</td>\n",
       "    </tr>\n",
       "  </tbody>\n",
       "</table>\n",
       "</div>"
      ],
      "text/plain": [
       "         city  city_ibge_code        date  epidemiological_week  \\\n",
       "0  Rio Branco       1200401.0  2020-03-17                202012   \n",
       "1         NaN            12.0  2020-03-17                202012   \n",
       "2  Rio Branco       1200401.0  2020-03-18                202012   \n",
       "3         NaN            12.0  2020-03-18                202012   \n",
       "4  Rio Branco       1200401.0  2020-03-19                202012   \n",
       "\n",
       "   estimated_population  estimated_population_2019  is_last  is_repeated  \\\n",
       "0              413418.0                   407319.0    False        False   \n",
       "1              894470.0                   881935.0    False        False   \n",
       "2              413418.0                   407319.0    False        False   \n",
       "3              894470.0                   881935.0    False        False   \n",
       "4              413418.0                   407319.0    False        False   \n",
       "\n",
       "   last_available_confirmed  last_available_confirmed_per_100k_inhabitants  \\\n",
       "0                         3                                        0.72566   \n",
       "1                         3                                        0.33539   \n",
       "2                         3                                        0.72566   \n",
       "3                         3                                        0.33539   \n",
       "4                         4                                        0.96754   \n",
       "\n",
       "  last_available_date  last_available_death_rate  last_available_deaths  \\\n",
       "0          2020-03-17                        0.0                      0   \n",
       "1          2020-03-17                        0.0                      0   \n",
       "2          2020-03-18                        0.0                      0   \n",
       "3          2020-03-18                        0.0                      0   \n",
       "4          2020-03-19                        0.0                      0   \n",
       "\n",
       "   order_for_place place_type state  new_confirmed  new_deaths  \n",
       "0                1       city    AC              3           0  \n",
       "1                1      state    AC              3           0  \n",
       "2                2       city    AC              0           0  \n",
       "3                2      state    AC              0           0  \n",
       "4                3       city    AC              1           0  "
      ]
     },
     "execution_count": 4,
     "metadata": {},
     "output_type": "execute_result"
    }
   ],
   "source": [
    "# lê o arquivo CSV\n",
    "df = pd.read_csv('datasets/caso_full.csv', delimiter=\",\")\n",
    "\n",
    "# mostra o conteúdo do DataFrame\n",
    "df.head(5)"
   ]
  },
  {
   "cell_type": "code",
   "execution_count": 5,
   "metadata": {},
   "outputs": [
    {
     "name": "stdout",
     "output_type": "stream",
     "text": [
      "<class 'pandas.core.frame.DataFrame'>\n",
      "RangeIndex: 1876816 entries, 0 to 1876815\n",
      "Data columns (total 18 columns):\n",
      " #   Column                                         Dtype  \n",
      "---  ------                                         -----  \n",
      " 0   city                                           object \n",
      " 1   city_ibge_code                                 float64\n",
      " 2   date                                           object \n",
      " 3   epidemiological_week                           int64  \n",
      " 4   estimated_population                           float64\n",
      " 5   estimated_population_2019                      float64\n",
      " 6   is_last                                        bool   \n",
      " 7   is_repeated                                    bool   \n",
      " 8   last_available_confirmed                       int64  \n",
      " 9   last_available_confirmed_per_100k_inhabitants  float64\n",
      " 10  last_available_date                            object \n",
      " 11  last_available_death_rate                      float64\n",
      " 12  last_available_deaths                          int64  \n",
      " 13  order_for_place                                int64  \n",
      " 14  place_type                                     object \n",
      " 15  state                                          object \n",
      " 16  new_confirmed                                  int64  \n",
      " 17  new_deaths                                     int64  \n",
      "dtypes: bool(2), float64(5), int64(6), object(5)\n",
      "memory usage: 232.7+ MB\n"
     ]
    }
   ],
   "source": [
    "df.info()"
   ]
  },
  {
   "cell_type": "code",
   "execution_count": 6,
   "metadata": {},
   "outputs": [
    {
     "data": {
      "text/plain": [
       "33086"
      ]
     },
     "execution_count": 6,
     "metadata": {},
     "output_type": "execute_result"
    }
   ],
   "source": [
    "len(df[df.isna().any(axis=1)])"
   ]
  },
  {
   "cell_type": "code",
   "execution_count": 7,
   "metadata": {},
   "outputs": [],
   "source": [
    "df = df.dropna()"
   ]
  },
  {
   "cell_type": "code",
   "execution_count": 8,
   "metadata": {},
   "outputs": [
    {
     "name": "stdout",
     "output_type": "stream",
     "text": [
      "<class 'pandas.core.frame.DataFrame'>\n",
      "Int64Index: 1843730 entries, 0 to 1876814\n",
      "Data columns (total 18 columns):\n",
      " #   Column                                         Dtype  \n",
      "---  ------                                         -----  \n",
      " 0   city                                           object \n",
      " 1   city_ibge_code                                 float64\n",
      " 2   date                                           object \n",
      " 3   epidemiological_week                           int64  \n",
      " 4   estimated_population                           float64\n",
      " 5   estimated_population_2019                      float64\n",
      " 6   is_last                                        bool   \n",
      " 7   is_repeated                                    bool   \n",
      " 8   last_available_confirmed                       int64  \n",
      " 9   last_available_confirmed_per_100k_inhabitants  float64\n",
      " 10  last_available_date                            object \n",
      " 11  last_available_death_rate                      float64\n",
      " 12  last_available_deaths                          int64  \n",
      " 13  order_for_place                                int64  \n",
      " 14  place_type                                     object \n",
      " 15  state                                          object \n",
      " 16  new_confirmed                                  int64  \n",
      " 17  new_deaths                                     int64  \n",
      "dtypes: bool(2), float64(5), int64(6), object(5)\n",
      "memory usage: 242.6+ MB\n"
     ]
    }
   ],
   "source": [
    "# df = df[df[\"is_repeated\"] != True]\n",
    "df.info()"
   ]
  },
  {
   "cell_type": "code",
   "execution_count": 9,
   "metadata": {},
   "outputs": [
    {
     "data": {
      "text/html": [
       "<div>\n",
       "<style scoped>\n",
       "    .dataframe tbody tr th:only-of-type {\n",
       "        vertical-align: middle;\n",
       "    }\n",
       "\n",
       "    .dataframe tbody tr th {\n",
       "        vertical-align: top;\n",
       "    }\n",
       "\n",
       "    .dataframe thead th {\n",
       "        text-align: right;\n",
       "    }\n",
       "</style>\n",
       "<table border=\"1\" class=\"dataframe\">\n",
       "  <thead>\n",
       "    <tr style=\"text-align: right;\">\n",
       "      <th></th>\n",
       "      <th>city</th>\n",
       "      <th>city_ibge_code</th>\n",
       "      <th>date</th>\n",
       "      <th>epidemiological_week</th>\n",
       "      <th>estimated_population</th>\n",
       "      <th>estimated_population_2019</th>\n",
       "      <th>is_last</th>\n",
       "      <th>is_repeated</th>\n",
       "      <th>last_available_confirmed</th>\n",
       "      <th>last_available_confirmed_per_100k_inhabitants</th>\n",
       "      <th>last_available_date</th>\n",
       "      <th>last_available_death_rate</th>\n",
       "      <th>last_available_deaths</th>\n",
       "      <th>order_for_place</th>\n",
       "      <th>place_type</th>\n",
       "      <th>state</th>\n",
       "      <th>new_confirmed</th>\n",
       "      <th>new_deaths</th>\n",
       "    </tr>\n",
       "  </thead>\n",
       "  <tbody>\n",
       "    <tr>\n",
       "      <th>0</th>\n",
       "      <td>Rio Branco</td>\n",
       "      <td>1200401.0</td>\n",
       "      <td>2020-03-17</td>\n",
       "      <td>202012</td>\n",
       "      <td>413418.0</td>\n",
       "      <td>407319.0</td>\n",
       "      <td>False</td>\n",
       "      <td>False</td>\n",
       "      <td>3</td>\n",
       "      <td>0.72566</td>\n",
       "      <td>2020-03-17</td>\n",
       "      <td>0.0</td>\n",
       "      <td>0</td>\n",
       "      <td>1</td>\n",
       "      <td>city</td>\n",
       "      <td>AC</td>\n",
       "      <td>3</td>\n",
       "      <td>0</td>\n",
       "    </tr>\n",
       "    <tr>\n",
       "      <th>2</th>\n",
       "      <td>Rio Branco</td>\n",
       "      <td>1200401.0</td>\n",
       "      <td>2020-03-18</td>\n",
       "      <td>202012</td>\n",
       "      <td>413418.0</td>\n",
       "      <td>407319.0</td>\n",
       "      <td>False</td>\n",
       "      <td>False</td>\n",
       "      <td>3</td>\n",
       "      <td>0.72566</td>\n",
       "      <td>2020-03-18</td>\n",
       "      <td>0.0</td>\n",
       "      <td>0</td>\n",
       "      <td>2</td>\n",
       "      <td>city</td>\n",
       "      <td>AC</td>\n",
       "      <td>0</td>\n",
       "      <td>0</td>\n",
       "    </tr>\n",
       "    <tr>\n",
       "      <th>4</th>\n",
       "      <td>Rio Branco</td>\n",
       "      <td>1200401.0</td>\n",
       "      <td>2020-03-19</td>\n",
       "      <td>202012</td>\n",
       "      <td>413418.0</td>\n",
       "      <td>407319.0</td>\n",
       "      <td>False</td>\n",
       "      <td>False</td>\n",
       "      <td>4</td>\n",
       "      <td>0.96754</td>\n",
       "      <td>2020-03-19</td>\n",
       "      <td>0.0</td>\n",
       "      <td>0</td>\n",
       "      <td>3</td>\n",
       "      <td>city</td>\n",
       "      <td>AC</td>\n",
       "      <td>1</td>\n",
       "      <td>0</td>\n",
       "    </tr>\n",
       "    <tr>\n",
       "      <th>6</th>\n",
       "      <td>Rio Branco</td>\n",
       "      <td>1200401.0</td>\n",
       "      <td>2020-03-20</td>\n",
       "      <td>202012</td>\n",
       "      <td>413418.0</td>\n",
       "      <td>407319.0</td>\n",
       "      <td>False</td>\n",
       "      <td>False</td>\n",
       "      <td>7</td>\n",
       "      <td>1.69320</td>\n",
       "      <td>2020-03-20</td>\n",
       "      <td>0.0</td>\n",
       "      <td>0</td>\n",
       "      <td>4</td>\n",
       "      <td>city</td>\n",
       "      <td>AC</td>\n",
       "      <td>3</td>\n",
       "      <td>0</td>\n",
       "    </tr>\n",
       "    <tr>\n",
       "      <th>8</th>\n",
       "      <td>Rio Branco</td>\n",
       "      <td>1200401.0</td>\n",
       "      <td>2020-03-21</td>\n",
       "      <td>202012</td>\n",
       "      <td>413418.0</td>\n",
       "      <td>407319.0</td>\n",
       "      <td>False</td>\n",
       "      <td>False</td>\n",
       "      <td>11</td>\n",
       "      <td>2.66075</td>\n",
       "      <td>2020-03-21</td>\n",
       "      <td>0.0</td>\n",
       "      <td>0</td>\n",
       "      <td>5</td>\n",
       "      <td>city</td>\n",
       "      <td>AC</td>\n",
       "      <td>4</td>\n",
       "      <td>0</td>\n",
       "    </tr>\n",
       "  </tbody>\n",
       "</table>\n",
       "</div>"
      ],
      "text/plain": [
       "         city  city_ibge_code        date  epidemiological_week  \\\n",
       "0  Rio Branco       1200401.0  2020-03-17                202012   \n",
       "2  Rio Branco       1200401.0  2020-03-18                202012   \n",
       "4  Rio Branco       1200401.0  2020-03-19                202012   \n",
       "6  Rio Branco       1200401.0  2020-03-20                202012   \n",
       "8  Rio Branco       1200401.0  2020-03-21                202012   \n",
       "\n",
       "   estimated_population  estimated_population_2019  is_last  is_repeated  \\\n",
       "0              413418.0                   407319.0    False        False   \n",
       "2              413418.0                   407319.0    False        False   \n",
       "4              413418.0                   407319.0    False        False   \n",
       "6              413418.0                   407319.0    False        False   \n",
       "8              413418.0                   407319.0    False        False   \n",
       "\n",
       "   last_available_confirmed  last_available_confirmed_per_100k_inhabitants  \\\n",
       "0                         3                                        0.72566   \n",
       "2                         3                                        0.72566   \n",
       "4                         4                                        0.96754   \n",
       "6                         7                                        1.69320   \n",
       "8                        11                                        2.66075   \n",
       "\n",
       "  last_available_date  last_available_death_rate  last_available_deaths  \\\n",
       "0          2020-03-17                        0.0                      0   \n",
       "2          2020-03-18                        0.0                      0   \n",
       "4          2020-03-19                        0.0                      0   \n",
       "6          2020-03-20                        0.0                      0   \n",
       "8          2020-03-21                        0.0                      0   \n",
       "\n",
       "   order_for_place place_type state  new_confirmed  new_deaths  \n",
       "0                1       city    AC              3           0  \n",
       "2                2       city    AC              0           0  \n",
       "4                3       city    AC              1           0  \n",
       "6                4       city    AC              3           0  \n",
       "8                5       city    AC              4           0  "
      ]
     },
     "execution_count": 9,
     "metadata": {},
     "output_type": "execute_result"
    }
   ],
   "source": [
    "df.head(5)"
   ]
  },
  {
   "cell_type": "code",
   "execution_count": 10,
   "metadata": {},
   "outputs": [
    {
     "name": "stdout",
     "output_type": "stream",
     "text": [
      "<class 'pandas.core.frame.DataFrame'>\n",
      "Int64Index: 1843730 entries, 0 to 1876814\n",
      "Data columns (total 7 columns):\n",
      " #   Column                     Dtype  \n",
      "---  ------                     -----  \n",
      " 0   city                       object \n",
      " 1   date                       object \n",
      " 2   estimated_population       float64\n",
      " 3   last_available_death_rate  float64\n",
      " 4   state                      object \n",
      " 5   new_confirmed              int64  \n",
      " 6   new_deaths                 int64  \n",
      "dtypes: float64(2), int64(2), object(3)\n",
      "memory usage: 112.5+ MB\n"
     ]
    }
   ],
   "source": [
    "## Vamos utilizar somente a coluna Data, UF, Municipio, Confirmed, Deaths,estimated_population, confirmed_per_100k_inhabitants and death_rate \n",
    "\n",
    "df.drop('city_ibge_code', axis=1, inplace=True)\n",
    "df.drop('epidemiological_week', axis=1, inplace=True)\n",
    "df.drop('estimated_population_2019', axis=1, inplace=True)\n",
    "df.drop('is_last', axis=1, inplace=True)\n",
    "df.drop('is_repeated', axis=1, inplace=True)\n",
    "df.drop('last_available_confirmed', axis=1, inplace=True)\n",
    "df.drop('last_available_confirmed_per_100k_inhabitants', axis=1, inplace=True)\n",
    "df.drop('last_available_date', axis=1, inplace=True)\n",
    "df.drop('last_available_deaths', axis=1, inplace=True)\n",
    "df.drop('order_for_place', axis=1, inplace=True)\n",
    "df.drop('place_type', axis=1, inplace=True)\n",
    "\n",
    "df.info()"
   ]
  },
  {
   "cell_type": "code",
   "execution_count": 11,
   "metadata": {},
   "outputs": [
    {
     "data": {
      "text/html": [
       "<div>\n",
       "<style scoped>\n",
       "    .dataframe tbody tr th:only-of-type {\n",
       "        vertical-align: middle;\n",
       "    }\n",
       "\n",
       "    .dataframe tbody tr th {\n",
       "        vertical-align: top;\n",
       "    }\n",
       "\n",
       "    .dataframe thead th {\n",
       "        text-align: right;\n",
       "    }\n",
       "</style>\n",
       "<table border=\"1\" class=\"dataframe\">\n",
       "  <thead>\n",
       "    <tr style=\"text-align: right;\">\n",
       "      <th></th>\n",
       "      <th>estimated_population</th>\n",
       "      <th>last_available_death_rate</th>\n",
       "      <th>new_confirmed</th>\n",
       "      <th>new_deaths</th>\n",
       "    </tr>\n",
       "  </thead>\n",
       "  <tbody>\n",
       "    <tr>\n",
       "      <th>count</th>\n",
       "      <td>1.843730e+06</td>\n",
       "      <td>1.843730e+06</td>\n",
       "      <td>1.843730e+06</td>\n",
       "      <td>1.843730e+06</td>\n",
       "    </tr>\n",
       "    <tr>\n",
       "      <th>mean</th>\n",
       "      <td>4.239237e+04</td>\n",
       "      <td>2.950365e-02</td>\n",
       "      <td>7.006651e+00</td>\n",
       "      <td>1.807287e-01</td>\n",
       "    </tr>\n",
       "    <tr>\n",
       "      <th>std</th>\n",
       "      <td>2.454663e+05</td>\n",
       "      <td>6.909092e-02</td>\n",
       "      <td>7.590008e+01</td>\n",
       "      <td>2.201362e+00</td>\n",
       "    </tr>\n",
       "    <tr>\n",
       "      <th>min</th>\n",
       "      <td>7.760000e+02</td>\n",
       "      <td>0.000000e+00</td>\n",
       "      <td>-2.327500e+04</td>\n",
       "      <td>-4.070000e+02</td>\n",
       "    </tr>\n",
       "    <tr>\n",
       "      <th>25%</th>\n",
       "      <td>5.784000e+03</td>\n",
       "      <td>5.100000e-03</td>\n",
       "      <td>0.000000e+00</td>\n",
       "      <td>0.000000e+00</td>\n",
       "    </tr>\n",
       "    <tr>\n",
       "      <th>50%</th>\n",
       "      <td>1.256000e+04</td>\n",
       "      <td>1.720000e-02</td>\n",
       "      <td>0.000000e+00</td>\n",
       "      <td>0.000000e+00</td>\n",
       "    </tr>\n",
       "    <tr>\n",
       "      <th>75%</th>\n",
       "      <td>2.761700e+04</td>\n",
       "      <td>3.120000e-02</td>\n",
       "      <td>3.000000e+00</td>\n",
       "      <td>0.000000e+00</td>\n",
       "    </tr>\n",
       "    <tr>\n",
       "      <th>max</th>\n",
       "      <td>1.232523e+07</td>\n",
       "      <td>1.000000e+00</td>\n",
       "      <td>4.017000e+04</td>\n",
       "      <td>4.380000e+02</td>\n",
       "    </tr>\n",
       "  </tbody>\n",
       "</table>\n",
       "</div>"
      ],
      "text/plain": [
       "       estimated_population  last_available_death_rate  new_confirmed  \\\n",
       "count          1.843730e+06               1.843730e+06   1.843730e+06   \n",
       "mean           4.239237e+04               2.950365e-02   7.006651e+00   \n",
       "std            2.454663e+05               6.909092e-02   7.590008e+01   \n",
       "min            7.760000e+02               0.000000e+00  -2.327500e+04   \n",
       "25%            5.784000e+03               5.100000e-03   0.000000e+00   \n",
       "50%            1.256000e+04               1.720000e-02   0.000000e+00   \n",
       "75%            2.761700e+04               3.120000e-02   3.000000e+00   \n",
       "max            1.232523e+07               1.000000e+00   4.017000e+04   \n",
       "\n",
       "         new_deaths  \n",
       "count  1.843730e+06  \n",
       "mean   1.807287e-01  \n",
       "std    2.201362e+00  \n",
       "min   -4.070000e+02  \n",
       "25%    0.000000e+00  \n",
       "50%    0.000000e+00  \n",
       "75%    0.000000e+00  \n",
       "max    4.380000e+02  "
      ]
     },
     "execution_count": 11,
     "metadata": {},
     "output_type": "execute_result"
    }
   ],
   "source": [
    "df.describe()"
   ]
  },
  {
   "cell_type": "code",
   "execution_count": 12,
   "metadata": {},
   "outputs": [],
   "source": [
    "df = df[df['new_deaths'] > 0]\n",
    "df = df[df['new_confirmed'] > 0]"
   ]
  },
  {
   "cell_type": "code",
   "execution_count": 13,
   "metadata": {},
   "outputs": [
    {
     "data": {
      "text/plain": [
       "city\n",
       "Abadia de Goiás        12\n",
       "Abadia dos Dourados     5\n",
       "Abadiânia              21\n",
       "Abaetetuba             69\n",
       "Abaeté                 11\n",
       "                       ..\n",
       "Álvaro de Carvalho      5\n",
       "Ângulo                  3\n",
       "Érico Cardoso           1\n",
       "Óbidos                 39\n",
       "Óleo                    1\n",
       "Length: 4876, dtype: int64"
      ]
     },
     "execution_count": 13,
     "metadata": {},
     "output_type": "execute_result"
    }
   ],
   "source": [
    "df.groupby('city').size()"
   ]
  },
  {
   "cell_type": "code",
   "execution_count": 14,
   "metadata": {},
   "outputs": [
    {
     "name": "stdout",
     "output_type": "stream",
     "text": [
      "<class 'pandas.core.frame.DataFrame'>\n",
      "Int64Index: 114435 entries, 59 to 1876516\n",
      "Data columns (total 7 columns):\n",
      " #   Column                     Non-Null Count   Dtype         \n",
      "---  ------                     --------------   -----         \n",
      " 0   city                       114435 non-null  object        \n",
      " 1   date                       114435 non-null  datetime64[ns]\n",
      " 2   estimated_population       114435 non-null  float64       \n",
      " 3   last_available_death_rate  114435 non-null  float64       \n",
      " 4   state                      114435 non-null  object        \n",
      " 5   new_confirmed              114435 non-null  int64         \n",
      " 6   new_deaths                 114435 non-null  int64         \n",
      "dtypes: datetime64[ns](1), float64(2), int64(2), object(2)\n",
      "memory usage: 7.0+ MB\n"
     ]
    }
   ],
   "source": [
    "df['date'] = pd.to_datetime(df['date'])\n",
    "\n",
    "df.info()"
   ]
  },
  {
   "cell_type": "code",
   "execution_count": 15,
   "metadata": {},
   "outputs": [
    {
     "data": {
      "text/plain": [
       "city\n",
       "Abadia de Goiás        12\n",
       "Abadia dos Dourados     5\n",
       "Abadiânia              21\n",
       "Abaetetuba             69\n",
       "Abaeté                 11\n",
       "                       ..\n",
       "Álvaro de Carvalho      5\n",
       "Ângulo                  3\n",
       "Érico Cardoso           1\n",
       "Óbidos                 39\n",
       "Óleo                    1\n",
       "Length: 4876, dtype: int64"
      ]
     },
     "execution_count": 15,
     "metadata": {},
     "output_type": "execute_result"
    }
   ],
   "source": [
    "df.groupby('city').size()"
   ]
  },
  {
   "cell_type": "code",
   "execution_count": 16,
   "metadata": {},
   "outputs": [
    {
     "data": {
      "text/plain": [
       "state\n",
       "AC      599\n",
       "AL     1626\n",
       "AM     2516\n",
       "AP      542\n",
       "BA     6505\n",
       "CE     4954\n",
       "DF      360\n",
       "ES     4136\n",
       "GO     4975\n",
       "MA     2852\n",
       "MG     8086\n",
       "MS     1918\n",
       "MT     2931\n",
       "PA     3493\n",
       "PB     2742\n",
       "PE     5470\n",
       "PI     1976\n",
       "PR     7941\n",
       "RJ     6355\n",
       "RN     1555\n",
       "RO     1705\n",
       "RR      384\n",
       "RS     8901\n",
       "SC     6563\n",
       "SE     1755\n",
       "SP    22183\n",
       "TO     1412\n",
       "dtype: int64"
      ]
     },
     "execution_count": 16,
     "metadata": {},
     "output_type": "execute_result"
    }
   ],
   "source": [
    "df.groupby('state').size()"
   ]
  },
  {
   "cell_type": "code",
   "execution_count": 17,
   "metadata": {},
   "outputs": [],
   "source": [
    "df.to_csv('datasets/covidCasesLimpoGeral.csv')"
   ]
  },
  {
   "cell_type": "markdown",
   "metadata": {},
   "source": [
    "## Salvando o csv com os reports de casos de covid com data, UF e municipio"
   ]
  },
  {
   "cell_type": "markdown",
   "metadata": {},
   "source": [
    "## Para poder juntar com o dataset do twitter preciso selecionar somente as entradas das top 100 cidades que pegamos nodia 10/04 no portal COVID IO"
   ]
  },
  {
   "cell_type": "code",
   "execution_count": 19,
   "metadata": {},
   "outputs": [
    {
     "name": "stdout",
     "output_type": "stream",
     "text": [
      "<class 'pandas.core.frame.DataFrame'>\n",
      "RangeIndex: 90 entries, 0 to 89\n",
      "Data columns (total 12 columns):\n",
      " #   Column                       Non-Null Count  Dtype \n",
      "---  ------                       --------------  ----- \n",
      " 0   Unnamed: 0                   90 non-null     int64 \n",
      " 1   Data                         90 non-null     object\n",
      " 2   Municipio                    90 non-null     object\n",
      " 3   UF                           90 non-null     object\n",
      " 4   Confirmados                  90 non-null     object\n",
      " 5   Confirmados 100k habitantes  90 non-null     object\n",
      " 6   Obitos                       90 non-null     object\n",
      " 7   Letalidade                   90 non-null     object\n",
      " 8   Obitos 100k habitantes       90 non-null     object\n",
      " 9   perfil                       90 non-null     object\n",
      " 10  TwitterID                    90 non-null     object\n",
      " 11  Processado                   90 non-null     bool  \n",
      "dtypes: bool(1), int64(1), object(10)\n",
      "memory usage: 7.9+ KB\n"
     ]
    }
   ],
   "source": [
    "# lê o arquivo CSV\n",
    "df_prefs = pd.read_csv('datasets/TwitterPrefsCOVIDComID.csv', delimiter=\";\")\n",
    "\n",
    "# mostra o conteúdo do DataFrame\n",
    "df_prefs.info()"
   ]
  },
  {
   "cell_type": "markdown",
   "metadata": {},
   "source": [
    "## Apos a remocao das cidades sem perfil no twitter temos um total de 90 cidade"
   ]
  },
  {
   "cell_type": "code",
   "execution_count": 20,
   "metadata": {},
   "outputs": [
    {
     "name": "stdout",
     "output_type": "stream",
     "text": [
      "<class 'pandas.core.frame.DataFrame'>\n",
      "Int64Index: 21031 entries, 59 to 1827674\n",
      "Data columns (total 7 columns):\n",
      " #   Column                     Non-Null Count  Dtype         \n",
      "---  ------                     --------------  -----         \n",
      " 0   city                       21031 non-null  object        \n",
      " 1   date                       21031 non-null  datetime64[ns]\n",
      " 2   estimated_population       21031 non-null  float64       \n",
      " 3   last_available_death_rate  21031 non-null  float64       \n",
      " 4   state                      21031 non-null  object        \n",
      " 5   new_confirmed              21031 non-null  int64         \n",
      " 6   new_deaths                 21031 non-null  int64         \n",
      "dtypes: datetime64[ns](1), float64(2), int64(2), object(2)\n",
      "memory usage: 1.3+ MB\n"
     ]
    }
   ],
   "source": [
    "## Para este exemplo usaremos somente duas colunas do df\n",
    "\n",
    "df = df[df['state'].isin(df_prefs['UF'])]\n",
    "df = df[df['city'].isin(df_prefs['Municipio'])]\n",
    "\n",
    "df.info()"
   ]
  },
  {
   "cell_type": "code",
   "execution_count": 21,
   "metadata": {},
   "outputs": [
    {
     "data": {
      "text/plain": [
       "city\n",
       "Alvorada         174\n",
       "Ananindeua       170\n",
       "Anápolis         182\n",
       "Aracaju          298\n",
       "Araçatuba        168\n",
       "                ... \n",
       "Viamão           170\n",
       "Vila Velha       285\n",
       "Vitória          271\n",
       "Volta Redonda    174\n",
       "Várzea Grande    183\n",
       "Length: 90, dtype: int64"
      ]
     },
     "execution_count": 21,
     "metadata": {},
     "output_type": "execute_result"
    }
   ],
   "source": [
    "## Confirmado que o dataset da covid IO esta filtrando somente os casos das prefeituras que levantamos no twitter\n",
    "## Fazendo o size vemos as mesmas 90 cidades\n",
    "df.groupby('city').size()"
   ]
  },
  {
   "cell_type": "markdown",
   "metadata": {},
   "source": [
    "## Agora vou identificar o boletim mais antigo publicado para aplicar o mesmo filtro no dataset do twitter posteriormente\n"
   ]
  },
  {
   "cell_type": "code",
   "execution_count": 22,
   "metadata": {},
   "outputs": [
    {
     "data": {
      "text/plain": [
       "Timestamp('2020-03-17 00:00:00')"
      ]
     },
     "execution_count": 22,
     "metadata": {},
     "output_type": "execute_result"
    }
   ],
   "source": [
    "date_oldest = df['date'].min()\n",
    "date_oldest"
   ]
  },
  {
   "cell_type": "code",
   "execution_count": 23,
   "metadata": {},
   "outputs": [
    {
     "data": {
      "text/html": [
       "<div>\n",
       "<style scoped>\n",
       "    .dataframe tbody tr th:only-of-type {\n",
       "        vertical-align: middle;\n",
       "    }\n",
       "\n",
       "    .dataframe tbody tr th {\n",
       "        vertical-align: top;\n",
       "    }\n",
       "\n",
       "    .dataframe thead th {\n",
       "        text-align: right;\n",
       "    }\n",
       "</style>\n",
       "<table border=\"1\" class=\"dataframe\">\n",
       "  <thead>\n",
       "    <tr style=\"text-align: right;\">\n",
       "      <th></th>\n",
       "      <th>city</th>\n",
       "      <th>date</th>\n",
       "      <th>estimated_population</th>\n",
       "      <th>last_available_death_rate</th>\n",
       "      <th>state</th>\n",
       "      <th>new_confirmed</th>\n",
       "      <th>new_deaths</th>\n",
       "    </tr>\n",
       "  </thead>\n",
       "  <tbody>\n",
       "    <tr>\n",
       "      <th>59</th>\n",
       "      <td>Rio Branco</td>\n",
       "      <td>2020-04-06</td>\n",
       "      <td>413418.0</td>\n",
       "      <td>0.0256</td>\n",
       "      <td>AC</td>\n",
       "      <td>1</td>\n",
       "      <td>1</td>\n",
       "    </tr>\n",
       "    <tr>\n",
       "      <th>101</th>\n",
       "      <td>Rio Branco</td>\n",
       "      <td>2020-04-13</td>\n",
       "      <td>413418.0</td>\n",
       "      <td>0.0441</td>\n",
       "      <td>AC</td>\n",
       "      <td>8</td>\n",
       "      <td>1</td>\n",
       "    </tr>\n",
       "    <tr>\n",
       "      <th>122</th>\n",
       "      <td>Rio Branco</td>\n",
       "      <td>2020-04-16</td>\n",
       "      <td>413418.0</td>\n",
       "      <td>0.0465</td>\n",
       "      <td>AC</td>\n",
       "      <td>10</td>\n",
       "      <td>1</td>\n",
       "    </tr>\n",
       "    <tr>\n",
       "      <th>136</th>\n",
       "      <td>Rio Branco</td>\n",
       "      <td>2020-04-18</td>\n",
       "      <td>413418.0</td>\n",
       "      <td>0.0446</td>\n",
       "      <td>AC</td>\n",
       "      <td>7</td>\n",
       "      <td>1</td>\n",
       "    </tr>\n",
       "    <tr>\n",
       "      <th>151</th>\n",
       "      <td>Rio Branco</td>\n",
       "      <td>2020-04-20</td>\n",
       "      <td>413418.0</td>\n",
       "      <td>0.0515</td>\n",
       "      <td>AC</td>\n",
       "      <td>13</td>\n",
       "      <td>2</td>\n",
       "    </tr>\n",
       "  </tbody>\n",
       "</table>\n",
       "</div>"
      ],
      "text/plain": [
       "           city       date  estimated_population  last_available_death_rate  \\\n",
       "59   Rio Branco 2020-04-06              413418.0                     0.0256   \n",
       "101  Rio Branco 2020-04-13              413418.0                     0.0441   \n",
       "122  Rio Branco 2020-04-16              413418.0                     0.0465   \n",
       "136  Rio Branco 2020-04-18              413418.0                     0.0446   \n",
       "151  Rio Branco 2020-04-20              413418.0                     0.0515   \n",
       "\n",
       "    state  new_confirmed  new_deaths  \n",
       "59     AC              1           1  \n",
       "101    AC              8           1  \n",
       "122    AC             10           1  \n",
       "136    AC              7           1  \n",
       "151    AC             13           2  "
      ]
     },
     "execution_count": 23,
     "metadata": {},
     "output_type": "execute_result"
    }
   ],
   "source": [
    "df.to_csv('datasets/covidCasesLimpo.csv')\n",
    "\n",
    "df.head()"
   ]
  },
  {
   "cell_type": "markdown",
   "metadata": {},
   "source": [
    "### Salvo a versao final dos boletins ja limps e prontos para a analise"
   ]
  },
  {
   "cell_type": "code",
   "execution_count": 24,
   "metadata": {},
   "outputs": [
    {
     "data": {
      "text/plain": [
       "city\n",
       "Alvorada         174\n",
       "Ananindeua       170\n",
       "Anápolis         182\n",
       "Aracaju          298\n",
       "Araçatuba        168\n",
       "                ... \n",
       "Viamão           170\n",
       "Vila Velha       285\n",
       "Vitória          271\n",
       "Volta Redonda    174\n",
       "Várzea Grande    183\n",
       "Length: 90, dtype: int64"
      ]
     },
     "execution_count": 24,
     "metadata": {},
     "output_type": "execute_result"
    }
   ],
   "source": [
    "df.groupby(\"city\").size()"
   ]
  },
  {
   "cell_type": "code",
   "execution_count": null,
   "metadata": {},
   "outputs": [],
   "source": []
  }
 ],
 "metadata": {
  "kernelspec": {
   "display_name": "Python 3",
   "language": "python",
   "name": "python3"
  },
  "language_info": {
   "codemirror_mode": {
    "name": "ipython",
    "version": 3
   },
   "file_extension": ".py",
   "mimetype": "text/x-python",
   "name": "python",
   "nbconvert_exporter": "python",
   "pygments_lexer": "ipython3",
   "version": "3.7.4"
  }
 },
 "nbformat": 4,
 "nbformat_minor": 4
}
