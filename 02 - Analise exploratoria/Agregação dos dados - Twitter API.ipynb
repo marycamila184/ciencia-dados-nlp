{
 "cells": [
  {
   "cell_type": "markdown",
   "metadata": {},
   "source": [
    "# Ciência de Dados 2"
   ]
  },
  {
   "cell_type": "markdown",
   "metadata": {},
   "source": [
    "## Agregação de dados das prefeituras do Twitter"
   ]
  },
  {
   "cell_type": "code",
   "execution_count": 108,
   "metadata": {},
   "outputs": [],
   "source": [
    "import pandas as pd\n",
    "import numpy as np"
   ]
  },
  {
   "cell_type": "code",
   "execution_count": 109,
   "metadata": {},
   "outputs": [
    {
     "name": "stdout",
     "output_type": "stream",
     "text": [
      "<class 'pandas.core.frame.DataFrame'>\n",
      "RangeIndex: 90 entries, 0 to 89\n",
      "Data columns (total 3 columns):\n",
      " #   Column     Non-Null Count  Dtype \n",
      "---  ------     --------------  ----- \n",
      " 0   municipio  90 non-null     object\n",
      " 1   tweets     90 non-null     object\n",
      " 2   includes   90 non-null     object\n",
      "dtypes: object(3)\n",
      "memory usage: 2.2+ KB\n"
     ]
    }
   ],
   "source": [
    "import pandas as pd\n",
    "df = pd.read_json ('datasets/PrefsTwitter.json')\n",
    "df.info()"
   ]
  },
  {
   "cell_type": "code",
   "execution_count": 110,
   "metadata": {},
   "outputs": [
    {
     "data": {
      "text/html": [
       "<div>\n",
       "<style scoped>\n",
       "    .dataframe tbody tr th:only-of-type {\n",
       "        vertical-align: middle;\n",
       "    }\n",
       "\n",
       "    .dataframe tbody tr th {\n",
       "        vertical-align: top;\n",
       "    }\n",
       "\n",
       "    .dataframe thead th {\n",
       "        text-align: right;\n",
       "    }\n",
       "</style>\n",
       "<table border=\"1\" class=\"dataframe\">\n",
       "  <thead>\n",
       "    <tr style=\"text-align: right;\">\n",
       "      <th></th>\n",
       "      <th>municipio</th>\n",
       "      <th>tweets</th>\n",
       "      <th>includes</th>\n",
       "    </tr>\n",
       "  </thead>\n",
       "  <tbody>\n",
       "    <tr>\n",
       "      <th>0</th>\n",
       "      <td>São Paulo</td>\n",
       "      <td>[[{'created_at': '2021-04-10T21:41:30.000Z', '...</td>\n",
       "      <td>[{'users': [{'id': '1319636844821217280', 'nam...</td>\n",
       "    </tr>\n",
       "    <tr>\n",
       "      <th>1</th>\n",
       "      <td>Rio de Janeiro</td>\n",
       "      <td>[[{'entities': {'urls': [{'start': 280, 'end':...</td>\n",
       "      <td>[{'users': [{'username': 'Prefeitura_Rio', 'na...</td>\n",
       "    </tr>\n",
       "    <tr>\n",
       "      <th>2</th>\n",
       "      <td>Manaus</td>\n",
       "      <td>[[{'text': '@cadeacatu 🙏🚜😉', 'public_metrics':...</td>\n",
       "      <td>[{'users': [{'id': '801439438983270400', 'user...</td>\n",
       "    </tr>\n",
       "    <tr>\n",
       "      <th>3</th>\n",
       "      <td>Fortaleza</td>\n",
       "      <td>[[{'public_metrics': {'retweet_count': 0, 'rep...</td>\n",
       "      <td>[{'users': [{'name': 'Prefeitura de Fortaleza'...</td>\n",
       "    </tr>\n",
       "    <tr>\n",
       "      <th>4</th>\n",
       "      <td>Brasília</td>\n",
       "      <td>[[{'text': 'A partir de hoje, o Festival de Ci...</td>\n",
       "      <td>[{'users': [{'id': '24695159', 'username': 'Br...</td>\n",
       "    </tr>\n",
       "  </tbody>\n",
       "</table>\n",
       "</div>"
      ],
      "text/plain": [
       "        municipio                                             tweets  \\\n",
       "0       São Paulo  [[{'created_at': '2021-04-10T21:41:30.000Z', '...   \n",
       "1  Rio de Janeiro  [[{'entities': {'urls': [{'start': 280, 'end':...   \n",
       "2          Manaus  [[{'text': '@cadeacatu 🙏🚜😉', 'public_metrics':...   \n",
       "3       Fortaleza  [[{'public_metrics': {'retweet_count': 0, 'rep...   \n",
       "4        Brasília  [[{'text': 'A partir de hoje, o Festival de Ci...   \n",
       "\n",
       "                                            includes  \n",
       "0  [{'users': [{'id': '1319636844821217280', 'nam...  \n",
       "1  [{'users': [{'username': 'Prefeitura_Rio', 'na...  \n",
       "2  [{'users': [{'id': '801439438983270400', 'user...  \n",
       "3  [{'users': [{'name': 'Prefeitura de Fortaleza'...  \n",
       "4  [{'users': [{'id': '24695159', 'username': 'Br...  "
      ]
     },
     "execution_count": 110,
     "metadata": {},
     "output_type": "execute_result"
    }
   ],
   "source": [
    "df.head()"
   ]
  },
  {
   "cell_type": "markdown",
   "metadata": {},
   "source": [
    "###  A disposição dos dados salvos no json não ficou muito boa para comecar a limpeza e análise, então vamos criar um  novo. "
   ]
  },
  {
   "cell_type": "markdown",
   "metadata": {},
   "source": [
    "### Devido a complexidade do objeto teremos que reformatar a maneira que salvamos. Começamos então a verificar quais campo queremos e jogamos estes campos em um Dataframe novo. "
   ]
  },
  {
   "cell_type": "code",
   "execution_count": 140,
   "metadata": {},
   "outputs": [],
   "source": [
    "def create_df_updated(municipio, all_tweets, all_includes):\n",
    "   \n",
    "    for i in range(len(all_tweets)):\n",
    "        for j in range(len(all_tweets[i])):\n",
    "            result = all_tweets[i][j]\n",
    "            \n",
    "            ## Pego mais informações sobre o primeiro tweet da lista e se for retweet\n",
    "            listUpdated.append({'municipio' : municipio, \n",
    "                                        'tweet_id' : result['id'],\n",
    "                                        'created_at' : result['created_at'],\n",
    "                                        'author_id' : result['author_id'],\n",
    "                                        'text' : result['text'],\n",
    "                                        'public_metrics_retweet_count' : result['public_metrics']['retweet_count'],\n",
    "                                        'public_metrics_reply_count' : result['public_metrics']['reply_count'],\n",
    "                                        'public_metrics_like_count' : result['public_metrics']['like_count'],\n",
    "                                        'public_metrics_quote_count' : result['public_metrics']['quote_count'],\n",
    "                                        'referenced_twitter' : (True if \"referenced_tweets\" in result else False)})\n",
    "            \n",
    "            \n",
    "    return True"
   ]
  },
  {
   "cell_type": "code",
   "execution_count": 141,
   "metadata": {},
   "outputs": [
    {
     "data": {
      "text/html": [
       "<div>\n",
       "<style scoped>\n",
       "    .dataframe tbody tr th:only-of-type {\n",
       "        vertical-align: middle;\n",
       "    }\n",
       "\n",
       "    .dataframe tbody tr th {\n",
       "        vertical-align: top;\n",
       "    }\n",
       "\n",
       "    .dataframe thead th {\n",
       "        text-align: right;\n",
       "    }\n",
       "</style>\n",
       "<table border=\"1\" class=\"dataframe\">\n",
       "  <thead>\n",
       "    <tr style=\"text-align: right;\">\n",
       "      <th></th>\n",
       "      <th>municipio</th>\n",
       "      <th>tweet_id</th>\n",
       "      <th>created_at</th>\n",
       "      <th>author_id</th>\n",
       "      <th>text</th>\n",
       "      <th>public_metrics_retweet_count</th>\n",
       "      <th>public_metrics_reply_count</th>\n",
       "      <th>public_metrics_like_count</th>\n",
       "      <th>public_metrics_quote_count</th>\n",
       "      <th>referenced_twitter</th>\n",
       "    </tr>\n",
       "  </thead>\n",
       "  <tbody>\n",
       "    <tr>\n",
       "      <th>0</th>\n",
       "      <td>São Paulo</td>\n",
       "      <td>1380999403910094855</td>\n",
       "      <td>2021-04-10T21:41:30.000Z</td>\n",
       "      <td>1319636844821217280</td>\n",
       "      <td>Esse da foto é o Pluto, um filhote calminho e ...</td>\n",
       "      <td>4</td>\n",
       "      <td>0</td>\n",
       "      <td>9</td>\n",
       "      <td>0</td>\n",
       "      <td>False</td>\n",
       "    </tr>\n",
       "    <tr>\n",
       "      <th>1</th>\n",
       "      <td>São Paulo</td>\n",
       "      <td>1380985859059576832</td>\n",
       "      <td>2021-04-10T20:47:40.000Z</td>\n",
       "      <td>1319636844821217280</td>\n",
       "      <td>O início da vacinação dos idosos com 67 anos o...</td>\n",
       "      <td>0</td>\n",
       "      <td>1</td>\n",
       "      <td>1</td>\n",
       "      <td>0</td>\n",
       "      <td>False</td>\n",
       "    </tr>\n",
       "    <tr>\n",
       "      <th>2</th>\n",
       "      <td>São Paulo</td>\n",
       "      <td>1380969544513159176</td>\n",
       "      <td>2021-04-10T19:42:51.000Z</td>\n",
       "      <td>1319636844821217280</td>\n",
       "      <td>RT @spsmdet: Uma onda de solidariedade chegou ...</td>\n",
       "      <td>2</td>\n",
       "      <td>0</td>\n",
       "      <td>0</td>\n",
       "      <td>0</td>\n",
       "      <td>True</td>\n",
       "    </tr>\n",
       "    <tr>\n",
       "      <th>3</th>\n",
       "      <td>São Paulo</td>\n",
       "      <td>1380960415555915781</td>\n",
       "      <td>2021-04-10T19:06:34.000Z</td>\n",
       "      <td>1319636844821217280</td>\n",
       "      <td>A Secretaria de Educação divulgou a convocação...</td>\n",
       "      <td>0</td>\n",
       "      <td>0</td>\n",
       "      <td>2</td>\n",
       "      <td>0</td>\n",
       "      <td>False</td>\n",
       "    </tr>\n",
       "    <tr>\n",
       "      <th>4</th>\n",
       "      <td>São Paulo</td>\n",
       "      <td>1380953886299713541</td>\n",
       "      <td>2021-04-10T18:40:38.000Z</td>\n",
       "      <td>1319636844821217280</td>\n",
       "      <td>Os postos drive-thru que fazem parte da estrut...</td>\n",
       "      <td>1</td>\n",
       "      <td>0</td>\n",
       "      <td>3</td>\n",
       "      <td>0</td>\n",
       "      <td>False</td>\n",
       "    </tr>\n",
       "  </tbody>\n",
       "</table>\n",
       "</div>"
      ],
      "text/plain": [
       "   municipio             tweet_id                created_at  \\\n",
       "0  São Paulo  1380999403910094855  2021-04-10T21:41:30.000Z   \n",
       "1  São Paulo  1380985859059576832  2021-04-10T20:47:40.000Z   \n",
       "2  São Paulo  1380969544513159176  2021-04-10T19:42:51.000Z   \n",
       "3  São Paulo  1380960415555915781  2021-04-10T19:06:34.000Z   \n",
       "4  São Paulo  1380953886299713541  2021-04-10T18:40:38.000Z   \n",
       "\n",
       "             author_id                                               text  \\\n",
       "0  1319636844821217280  Esse da foto é o Pluto, um filhote calminho e ...   \n",
       "1  1319636844821217280  O início da vacinação dos idosos com 67 anos o...   \n",
       "2  1319636844821217280  RT @spsmdet: Uma onda de solidariedade chegou ...   \n",
       "3  1319636844821217280  A Secretaria de Educação divulgou a convocação...   \n",
       "4  1319636844821217280  Os postos drive-thru que fazem parte da estrut...   \n",
       "\n",
       "   public_metrics_retweet_count  public_metrics_reply_count  \\\n",
       "0                             4                           0   \n",
       "1                             0                           1   \n",
       "2                             2                           0   \n",
       "3                             0                           0   \n",
       "4                             1                           0   \n",
       "\n",
       "   public_metrics_like_count  public_metrics_quote_count  referenced_twitter  \n",
       "0                          9                           0               False  \n",
       "1                          1                           0               False  \n",
       "2                          0                           0                True  \n",
       "3                          2                           0               False  \n",
       "4                          3                           0               False  "
      ]
     },
     "execution_count": 141,
     "metadata": {},
     "output_type": "execute_result"
    }
   ],
   "source": [
    "listUpdated = []\n",
    "\n",
    "df['processado'] = df.apply(lambda row : create_df_updated(row['municipio'], row['tweets'], row['includes']), axis = 1)\n",
    "\n",
    "dfUpdated = pd.DataFrame (listUpdated)\n",
    "\n",
    "dfUpdated.head()"
   ]
  },
  {
   "cell_type": "code",
   "execution_count": 142,
   "metadata": {},
   "outputs": [],
   "source": [
    "## Salvando os o novo DF para limpeza e analise\n",
    "dfUpdated.to_csv('datasets/PrefsTweetsAgregado.csv', sep=';', encoding='utf-8')"
   ]
  },
  {
   "cell_type": "markdown",
   "metadata": {},
   "source": [
    "### Os dados agora agregados e estão mais bem estruturados para a limpeza."
   ]
  },
  {
   "cell_type": "code",
   "execution_count": null,
   "metadata": {},
   "outputs": [],
   "source": []
  }
 ],
 "metadata": {
  "kernelspec": {
   "display_name": "Python 3",
   "language": "python",
   "name": "python3"
  },
  "language_info": {
   "codemirror_mode": {
    "name": "ipython",
    "version": 3
   },
   "file_extension": ".py",
   "mimetype": "text/x-python",
   "name": "python",
   "nbconvert_exporter": "python",
   "pygments_lexer": "ipython3",
   "version": "3.7.4"
  }
 },
 "nbformat": 4,
 "nbformat_minor": 4
}
